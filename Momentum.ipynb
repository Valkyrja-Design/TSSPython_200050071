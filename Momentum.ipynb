{
 "cells": [
  {
   "cell_type": "markdown",
   "metadata": {
    "id": "U1k32GLIm1o5"
   },
   "source": [
    "## Momentum \n",
    "\n",
    "Momentum-based Trading is based on the assumption that Stocks which have performed will in the past, will perform better in the coming future.\n",
    " \n",
    "To define 'past', we take a variable **N**, and say that : \n",
    "\n",
    "<centre> Momentum(For A particular stock) = Close Price(Today) - Close Price(N-day ago) </centre>\n",
    "\n",
    "This gives us our first hyper-parameter (parameters of the model which could be changed in order to improve the model) : **N**\n",
    "\n",
    "We would also be reshuffling our [Portfolio](https://www.investopedia.com/terms/p/portfolio.asp) at certain intervals of time, which gives us our second hyper-parameter: **T** (The time after which we'll be reshuffling our Portfolio)\n",
    "\n",
    "Its never suggested to keep all your money invested, you must have some risk-free assets as well, so that even if you lose some of your cash in trading, you could still place better bets and regain that lost cash, Thus, We get our third Hyper-parameter: **R**, The Ratio of Total Balance, which we will using for investing.\n",
    "\n",
    "You will not be investing in all the 30 Tickers now, Will you? You will choose the top few stocks, which show the highest promise in terms of Momentum, which brings us to another hyper-parameter: **M**, The Number of Top few stocks (based on Momentum), which you'll keep in your Portfolio.\n",
    "\n",
    "Finally, There's some brokerage fee which you need to pay in order to place orders on the stock market, typically its less than 0.5% of the total amount : **F**\n"
   ]
  },
  {
   "cell_type": "code",
   "execution_count": 84,
   "metadata": {
    "id": "GpkE6S0ZjSlB"
   },
   "outputs": [],
   "source": [
    "#Importing Required Libraries\n",
    "import pandas as pd\n",
    "import numpy as np\n",
    "import datetime\n",
    "import matplotlib.pyplot as plt\n",
    "import seaborn as sns\n",
    "import bisect as bi\n",
    "from operator import truediv\n",
    "#Declaring the Hyperparameters\n",
    "\n",
    "N = 10\n",
    "T = 5\n",
    "R = 0.8\n",
    "M = 10\n",
    "F = 0.005   # 0.5% Brokerage fee"
   ]
  },
  {
   "cell_type": "markdown",
   "metadata": {
    "id": "DwPazs3-q618"
   },
   "source": [
    "The Second step would be to define a function which reads the Prices of various Stocks into memory.\n",
    "\n",
    "In the file DATA.csv , which we had uploaded in our repository, we have prices of 30 firms enlisted in S & P 500 Index (Apple, IBM, Cisco, Walmart and the like!) from 2nd January 2009 to 17th August 2020.\n",
    "\n",
    "For our purposes, We'll only be requiring certain columns. On an honest note, Just getting the Columns on Ticker, Date and Adjusted Closing Price would do the job, but if you want, you may take Opening Price as well.\n",
    "\n",
    "Read up about the [pandas.read_csv](https://pandas.pydata.org/docs/reference/api/pandas.read_csv.html) function from here, and figure out how you'll use it to do the job (You don't need all the columns!) "
   ]
  },
  {
   "cell_type": "code",
   "execution_count": 85,
   "metadata": {
    "id": "9rsbAPafuUk1"
   },
   "outputs": [],
   "source": [
    "def GetData(NameOfFile):\n",
    "  #START CODE HERE\n",
    "  df=pd.read_csv(NameOfFile,usecols=['datadate','tic','adjcp'],dtype={'adjcp':float})\n",
    "  return df  # pd.DataFrame Object\n"
   ]
  },
  {
   "cell_type": "markdown",
   "metadata": {
    "id": "qkWJ29Kquf2B"
   },
   "source": [
    "To aid Data-Manipulation, it would be beneficial, if we split the DataFrame into many small parts each corresponding to the data corresponding to the 30 Tickers on a particular date. These small parts could then be stored in a list.\n",
    "\n",
    "We would also be needing to remember which date is at what index, so that we can use that later. "
   ]
  },
  {
   "cell_type": "code",
   "execution_count": 86,
   "metadata": {
    "id": "d4HLxmu9HTl8"
   },
   "outputs": [],
   "source": [
    "def PartitionData(Data):\n",
    "  Dates=list(set(Data['datadate']))\n",
    "  Dates.sort()\n",
    "  Index=[i for i in range(len(Dates))]\n",
    "  DateToIndex = dict(zip(Dates,Index))\n",
    "  List=[]\n",
    "  for i in range(len(Dates)):\n",
    "    List.append(Data[i*30:(i+1)*30])\n",
    "    \n",
    "  return List, DateToIndex # List containing of the Data Partitioned according to Date, and the Dictionary mapping Dates to their index in the list \n",
    "  "
   ]
  },
  {
   "cell_type": "markdown",
   "metadata": {
    "id": "peRRNuUQOnVM"
   },
   "source": [
    "Now, We need a function to calculate the Momentum value for all of our 30 Tickers.\n",
    "To do this, We need to have a few things in mind:\n",
    "\n",
    "\n",
    "1.   We need to start at Nth day in our list, as only then we'll be able to calculate the Momentum (This will be taken care of by later parts of the Program, when we actually run the Model)\n",
    "\n",
    "2.   The Stock Market isn't open on all days, so we often won't be able to go N days behind, and will have to take the closest value instead(We can't just go N entries behind in the List we created and expect that to work, Why?) In order to work with dates, you should get to know more about the datetime library of Python from [here](https://thispointer.com/python-how-to-convert-datetime-object-to-string-using-datetime-strftime/) (Especially the datetime.strftime() function) and about the [datetime.timedelta()](https://www.studytonight.com/python-howtos/how-to-add-days-to-date-in-python) function.\n",
    "\n",
    "Also, as you may have figured it out yourself, while DataFrames are great for Data Handling and small statistical calculations, They aren't so for big calculations as the Numpy Library has both a richer variety of functions for such manipulations and is also more efficient!\n",
    "\n",
    "After we calculate the Momentum for all our Tickers, it would be a great thing to do, if we could divide their prices by their mean(in the N day interval, as we need to see which stock outperforms others and in order to do this, it won't be fair if we take the absolute growth in numbers!(Why?)\n",
    "\n"
   ]
  },
  {
   "cell_type": "code",
   "execution_count": 87,
   "metadata": {
    "id": "tMKHAcBnSG5n"
   },
   "outputs": [],
   "source": [
    "def GetMomentumBasedPriority(PartitionedDataFrameList, DateToIndex ,today):\n",
    "  # PartitionedDataFrameList : Pandas DataFrame, The Output of your last function\n",
    "  # DateToIndex : Dictionary mapping dates to their index in the PartitionedDataFrameList\n",
    "  # today :  Today's date (string) In Format: YYYYMMDD\n",
    "\n",
    "\n",
    "  #NdaysAgo is a datatime.date() object containing the required data, you need to convert it to a string and then check if its\n",
    "  #actually there in the Data you have or will you have to get going using some other nearest date\n",
    "\n",
    "  NdaysAgo = datetime.date(int(today[0:4]),int(today[4:6]),int(today[6:])) + datetime.timedelta(days = -N)\n",
    "\n",
    "  #START CODE HERE!\n",
    "  DateInString=NdaysAgo.strftime(\"%Y%m%d\")\n",
    "  DateInInt=int(DateInString)\n",
    "  Momentum=[]\n",
    "  ListOfDates=list(DateToIndex.keys())\n",
    "  if (DateInInt in ListOfDates):\n",
    "    for i in range(30):\n",
    "      Current_Price=PartitionedDataFrameList[DateToIndex[int(today)]]['adjcp'][i+ListOfDates.index(int(today))*30]\n",
    "      PriceNDaysAgo=PartitionedDataFrameList[DateToIndex[DateInInt]]['adjcp'][i+ListOfDates.index(DateInInt)*30]\n",
    "      Momentum.append(Current_Price-PriceNDaysAgo)\n",
    "            \n",
    "  else:\n",
    "    Closest_Date=ListOfDates[bi.bisect_left(ListOfDates,DateInInt)]\n",
    "    for i in range(30):\n",
    "      Current_Price=PartitionedDataFrameList[DateToIndex[int(today)]]['adjcp'][i+ListOfDates.index(int(today))*30]\n",
    "      PriceNDaysAgo=PartitionedDataFrameList[DateToIndex[Closest_Date]]['adjcp'][i+ListOfDates.index(Closest_Date)*30]\n",
    "      Momentum.append(Current_Price-PriceNDaysAgo)\n",
    "  MeanPrice=[0]*30\n",
    "  for i in range(bi.bisect_left(ListOfDates,DateInInt),ListOfDates.index(int(today))+1):\n",
    "    for j in range(30):\n",
    "      MeanPrice[j]+=PartitionedDataFrameList[DateToIndex[ListOfDates[i]]]['adjcp'][j+i*30]\n",
    "  MeanPrice=list(np.array(MeanPrice)/N)\n",
    "  MomentumByMean=list(map(truediv,Momentum,MeanPrice))\n",
    "  MomentumBasedPriority=np.array(MomentumByMean)\n",
    "  return  MomentumBasedPriority #Numpy Array containing the Momentum divided by mean(in the N-day period considered) of all the 30 tickers, in the required order.\n"
   ]
  },
  {
   "cell_type": "markdown",
   "metadata": {
    "id": "s5QOHJ9Ra00l"
   },
   "source": [
    "Even after you have got your Momentum-based priorities, and have decided which stocks to buy and what will be the weight of each, you still need to figure out how much of each will you buy. To do this, first you'll sell all your pre-owned stocks which will increase your cash in hand, then you'll know the stocks to buy and their relative weights (given by their Momentum/mean) and you need a function which tells you how many stocks to buy for each ticker!"
   ]
  },
  {
   "cell_type": "code",
   "execution_count": 88,
   "metadata": {
    "id": "cQg8OWVg_qo5"
   },
   "outputs": [],
   "source": [
    "def GetBalanced(prices, weights,balance):\n",
    "  # prices : Numpy array containing Prices of all the 30 Stocks\n",
    "  # weights : Multi-hot Numpy Array : The Elements corresponding to stocks which are to be bought(Top M Stocks with positive Momentum Indicator) are set to their priority, All other elements are set to zero.\n",
    "  # Returns Numpy array containing the number of shares to buy for each stock!\n",
    "  dic={}\n",
    "  Weights=list(weights)\n",
    "  ListForNumberToBuy=[0]*30\n",
    "  for i in range(0,len(Weights)):\n",
    "    if (Weights[i]!=0):\n",
    "      dic[Weights[i]]=i\n",
    "  SortedWeights=sorted(dic)\n",
    "  l=len(SortedWeights)\n",
    "  j=l-1\n",
    "  while (balance>=prices[dic[SortedWeights[0]]] and j>=0):\n",
    "    if (balance<prices[dic[SortedWeights[j]]]):\n",
    "      j-=1\n",
    "    else:\n",
    "      ListForNumberToBuy[dic[SortedWeights[j]]]=balance//prices[dic[SortedWeights[j]]]\n",
    "      balance-=ListForNumberToBuy[dic[SortedWeights[j]]]*prices[dic[SortedWeights[j]]]\n",
    "      j-=1\n",
    "  NumberToBuy=np.array(ListForNumberToBuy) \n",
    "  return NumberToBuy\n",
    "   "
   ]
  },
  {
   "cell_type": "markdown",
   "metadata": {
    "id": "WWN9ri-rIb3e"
   },
   "source": [
    "Now, We need something to simulate our [Portfolio](https://www.investopedia.com/terms/p/portfolio.asp). In order to do that we need a class, which has certain  basic features and functionalities.\n",
    "\n",
    "Features : \n",
    "\n",
    "\n",
    "1.   Your Initial Balance\n",
    "2.   Your Current Balance\n",
    "3.   A list(/any other container) storing the number of stocks of each ticker currently in possession. (Numpy Array prefered)\n",
    "4.   Most recent prices of all the stocks (As a Numpy array)\n",
    "\n",
    "Functionalities: \n",
    "\n",
    "\n",
    "\n",
    "1.   Calculating current Net Worth (Balance+Total Evaluation of all Stocks owned!) \n",
    "2.   Buying a Particular Stock (Keep the Transaction fee in mind!)\n",
    "3.   Selling a particular Stock whole (Keep the Transaction Fee in mind!)\n",
    "4.   Rebalance Portfolio  (Takes Numpy array as input)\n",
    "5.   Function to change the value of most recent prices stored (Takes Numpy array as input)\n",
    "\n",
    "\n",
    "\n"
   ]
  },
  {
   "cell_type": "code",
   "execution_count": 97,
   "metadata": {
    "id": "gi60d9qUNO0_"
   },
   "outputs": [],
   "source": [
    "class PortFolio:\n",
    "  def __init__(self,InitBalance,CurrBalance,NumOfStocks,RecentPrices):\n",
    "    self.initBalance=InitBalance\n",
    "    self.currBalance=CurrBalance\n",
    "    self.numOfStocks=NumOfStocks\n",
    "    self.recentPrices=RecentPrices\n",
    "\n",
    "  def SellStock(self,index):\n",
    "  #index : The index of the Stock to sell (0-29)\n",
    "    self.initBalance= self.initBalance+(1-F)*self.recentPrices[index]*self.numOfStocks[index]\n",
    "    self.currBalance= self.initBalance*(1-R)\n",
    "    self.numOfStocks[index]=0\n",
    "    \n",
    "  def BuyStock(self,index, number):\n",
    "  #index : The index of the Stock to buy (0-29) \n",
    "  #number : Number of shares to buy (float)\n",
    "    self.initBalance-=(1+F)*self.recentPrices[index]*number\n",
    "    self.currBalance= self.initBalance*(1-R)\n",
    "    self.numOfStocks[index]+=number\n",
    "    \n",
    "  def CalculateNetWorth(self):\n",
    "  #Return Net Worth (All Shares' costs+ Balance)\n",
    "    CostOfShares=self.numOfStocks*self.recentPrices\n",
    "    return CostOfShares.sum()+self.initBalance\n",
    "\n",
    "  def ChangePricesTo(self,newPriceVector):\n",
    "  # newPriceVector : Numpy array containing the prices of all the stocks for the current day\n",
    "    self.recentPrices=newPriceVector\n",
    "\n",
    "  def RebalancePortFolio(self,newWeights):  \n",
    "    # newWeights : Numpy array containing Momentum/Mean for all stocks in the N-day period\n",
    "    # First sell all your pre-owned Stock (make sure to take transaction fee into account!)\n",
    "    # This would change your total balance\n",
    "    # Then take the top M(/might be less than M, if >(30-M) had negative Momentum) and send them to the GetBalanced() Function\n",
    "    # Then take that output and pass them to the BuyStocks function!\n",
    "    for i in range(30):\n",
    "      self.SellStock(i)\n",
    "    dic={}\n",
    "    for i in range(30):\n",
    "      if (newWeights[i]>0):\n",
    "        dic[newWeights[i]]=i\n",
    "      else:\n",
    "        newWeights[i]=0\n",
    "    SortedWeights=sorted(dic)\n",
    "    BestM=[]\n",
    "    n=0\n",
    "    Weights=[0]*30\n",
    "    for i in range(len(SortedWeights)-1,-1,-1):\n",
    "      if (n<M):\n",
    "        BestM.append(SortedWeights[i])\n",
    "        n+=1\n",
    "      else:\n",
    "        break\n",
    "    for i in BestM:\n",
    "      Weights[dic[i]]=i \n",
    "    NumberToBuy=GetBalanced(self.recentPrices,np.array(Weights),self.initBalance*R)    \n",
    "    for i in range(0,NumberToBuy.size):\n",
    "        self.BuyStock(i,NumberToBuy[i])"
   ]
  },
  {
   "cell_type": "markdown",
   "metadata": {
    "id": "PKiLs-6TB6mU"
   },
   "source": [
    "With that the difficult part is over!\n",
    "\n",
    "Now, all you need to work on is a main loop, which calls all these functions"
   ]
  },
  {
   "cell_type": "code",
   "execution_count": 114,
   "metadata": {
    "id": "zjo2KrcaCmqf"
   },
   "outputs": [],
   "source": [
    "\n",
    "#First Get the Data\n",
    "Data = GetData(\"DATA.csv\")\n",
    "PartitionedData, DateToIndex= PartitionData(Data)\n",
    "\n",
    "stocks=[0]*30  #initial Stocks  \n",
    "stocks[15]=10\n",
    "\n",
    "initialBalance=100    #initial Balance\n",
    "CurrentBalance=(1-R)*initialBalance\n",
    "\n",
    "#Took the recentPrices as the prices of the last date in the data for initializing the class which gets changed as soon as \n",
    "#we enter the for loop\n",
    "\n",
    "myPortfolio = PortFolio(initialBalance,CurrentBalance,np.array(stocks),np.array(PartitionedData[len(PartitionedData)-1]['adjcp']))\n",
    "NetWorthAfterEachTrade = []\n",
    "\n",
    "#Start processing from the (N+1)th Day(among the ones recorded in the Data)\n",
    "for i in range(N,len(PartitionedData)):\n",
    "  # Change the Prices to the ith Term\n",
    "  # Get NetWorth and store in list\n",
    "  # Check if you need to rebalance Portfolio's Today\n",
    "  # If so, do it by Calling first the GetMomentumBasedPriority function and then passing it to the rebalance function\n",
    "  CurrPrices=np.array(PartitionedData[i]['adjcp'])\n",
    "  myPortfolio.ChangePricesTo(CurrPrices)\n",
    "  NetWorthAfterEachTrade.append(myPortfolio.CalculateNetWorth())\n",
    "  if (i==N):            #For doing the first resuffle \n",
    "    myPortfolio.RebalancePortFolio(GetMomentumBasedPriority(PartitionedData, DateToIndex ,str(PartitionedData[i]['datadate'][i*30]))) \n",
    "  if (i-(N+1)==T):                        \n",
    "    myPortfolio.RebalancePortFolio(GetMomentumBasedPriority(PartitionedData, DateToIndex ,str(PartitionedData[i]['datadate'][i*30])))                       \n",
    "\n",
    "\n",
    "  "
   ]
  },
  {
   "cell_type": "markdown",
   "metadata": {
    "id": "rHB126bDE2Kn"
   },
   "source": [
    "##Moment of Truth\n",
    "\n",
    "Time to check, if your Program actually works!\n",
    "\n",
    "Plot the data you collected in various ways and see if what you did worked!\n",
    "\n",
    "Feel free to use whichever one of Matplotlib or Seaborn you want to.\n",
    "\n",
    "You should try changing the hyper-parameters to increase(/decrease) your performance!\n"
   ]
  },
  {
   "cell_type": "code",
   "execution_count": 115,
   "metadata": {
    "id": "Z3AVQq09FxYm"
   },
   "outputs": [
    {
     "data": {
      "image/png": "[encoded data removed]",
      "text/plain": [
       "<Figure size 432x288 with 1 Axes>"
      ]
     },
     "metadata": {
      "needs_background": "light"
     },
     "output_type": "display_data"
    },
    {
     "name": "stdout",
     "output_type": "stream",
     "text": [
      "[696.7, 671.6255000000001, 679.4254999999999, 688.8255, 691.4255, 688.8255, 692.8255, 744.5689000000001, 695.5089000000002, 697.2689000000001, 690.4489000000001, 665.1489000000001, 664.9289000000001, 675.9289000000001, 743.9089000000001, 736.2089000000002, 677.6889000000001, 710.0289000000001, 712.2289000000002, 679.2289000000002, 612.3489000000001, 609.2689000000001, 589.2489000000002, 573.8489000000001, 565.2689000000001, 598.4889000000001, 614.1089000000002, 643.1489000000001, 638.7489000000002, 601.5689000000001, 598.2689000000001, 560.6489000000001, 501.24890000000016, 486.5089000000001, 485.8489000000001, 565.0489000000001, 584.8489000000001, 646.4489000000001, 658.5489000000001, 644.0289000000001, 689.1289000000002, 732.4689000000001, 684.9489000000001, 645.3489000000001, 770.9689000000001, 716.8489000000001, 764.3689, 776.2489000000002, 738.8489000000001, 682.7489000000002, 720.8089000000001, 755.1289000000002, 755.5689000000001, 780.2089000000002, 756.4489000000001, 735.5489000000001, 739.5089000000002, 856.5489000000001, 877.4489000000002, 811.4489000000001, 852.3689000000002, 867.3289000000002, 867.7689, 789.2289000000002, 851.7089000000002, 837.8489000000001, 866.6689000000001, 870.4089000000001, 857.2089000000002, 857.4289000000001, 894.6089000000001, 862.0489000000001, 850.8289000000002, 923.4289000000001, 902.0889000000001, 954.8889, 911.3289000000002, 992.7289000000001, 924.3089000000001, 913.9689000000001, 885.1489, 917.9289000000001, 904.0689000000001, 955.7689, 923.8689000000002, 896.1489, 903.8489000000001, 893.0689000000001, 939.9289000000001, 898.5689000000001, 942.3489000000001, 947.8489000000001, 930.4689000000001, 895.0489000000001, 883.6089000000001, 913.7489000000002, 896.1489, 914.6289000000002, 911.7689, 902.5289000000001, 904.7289000000001, 908.9089000000001, 884.0489000000001, 873.0489000000001, 856.1089000000001, 887.7889000000001, 906.0489000000001, 859.1889000000001, 874.5889000000001, 872.1689000000001, 887.1289000000002, 893.9489000000002, 897.2489000000002, 886.4689000000001, 878.9889000000002, 845.9889000000002, 853.2489000000002, 857.8689000000002, 855.6689000000001, 875.6889000000001, 847.5289000000001, 899.6689000000001, 899.4489000000002, 933.7689, 930.9089000000001, 947.6289000000002, 949.6089000000001, 948.7289000000001, 946.3089000000001, 975.3489000000001, 970.2889000000001, 974.9089000000001, 973.8089000000001, 966.9889000000002, 982.3889, 986.3489000000001, 1007.2489000000002, 1020.6689000000001, 1055.2089, 1032.5489000000002, 1067.9689, 1075.2289, 1043.3289000000002, 1064.6689000000001, 1079.8489, 1069.9489000000003, 1032.1089000000002, 1053.4489000000003, 1047.0689000000002, 1069.2889, 1096.5689000000002, 1082.2689, 1094.8089, 1088.6489000000001, 1091.9489000000003, 1080.2889, 1092.1689000000001, 1052.7889, 1034.9689, 1062.4689, 1067.5289000000002, 1071.9289, 1078.9689, 1082.4889000000003, 1071.0489000000002, 1098.5489000000002, 1086.2289, 1118.3489, 1125.1689000000001, 1124.9489000000003, 1116.1489000000001, 1158.3889, 1127.3689000000002, 1112.1889, 1096.3489, 1121.8689000000002, 1123.4089000000001, 1100.0889000000002, 1046.1889, 1056.9689, 1099.6489000000001, 1124.0689000000002, 1141.4489000000003, 1132.6489000000001, 1144.7489, 1149.8089, 1140.5689000000002, 1173.5689000000002, 1173.5689000000002, 1149.3689000000002, 1147.6089000000002, 1148.7089, 1118.3489, 1141.6689000000001, 1131.1089000000002, 1100.0889000000002, 1101.8489, 1075.0089000000003, 1111.7489, 1054.9889000000003, 1072.8089, 1075.4489000000003, 1064.6689000000001, 1101.1889, 1092.6089000000002, 1111.7489, 1107.7889, 1111.0889000000002, 1088.6489000000001, 1079.8489, 1082.9289, 1085.5689000000002, 1090.4089000000001, 1072.1489000000001, 1070.1689000000001, 1088.2089, 1070.6089000000002, 1063.5689000000002, 1045.3089, 1070.8289000000002, 1064.8889, 1058.5089000000003, 1046.8489, 1054.3289000000002, 1043.5489000000002, 1042.6689000000001, 1042.2289, 1043.9889000000003, 1037.1689000000001, 1054.9889000000003, 1034.9689, 1045.9689, 1021.9889000000002, 1036.9489000000003, 1057.8489, 1058.7289, 1050.3689000000002, 1057.6289000000002, 1053.8889, 1048.8289000000002, 1049.7089, 1052.7889, 1078.7489, 1097.0089000000003, 1102.2889, 1121.4289, 1119.0089000000003, 1115.7089, 1092.8289000000002, 1109.5489000000002, 1119.2289, 1097.0089000000003, 1088.2089, 1090.8489, 1027.9289, 997.5689000000001, 998.6689000000001, 981.7289000000001, 1001.3089000000001, 1004.6089000000001, 992.7289000000001, 1007.9089000000001, 1028.1489000000001, 1022.4289000000001, 979.7489000000002, 978.6489, 965.4489000000002, 980.6289000000002, 991.1889000000001, 994.4889000000002, 992.9489000000002, 1017.5889000000001, 1016.9289000000001, 1025.0689000000002, 1016.7089000000002, 1034.7489, 1013.4089000000001, 1034.7489, 1030.1289000000002, 1059.3889, 1056.3089, 1051.6889, 1049.7089, 1058.2889, 1077.8689000000002, 1073.0289000000002, 1069.2889, 1080.5089000000003, 1086.0089000000003, 1085.3489, 1083.5889000000002, 1087.3289000000002, 1099.4289, 1096.1289000000002, 1091.9489000000003, 1098.3289000000002, 1116.8089, 1124.7289, 1124.7289, 1126.4889000000003, 1122.9689, 1116.8089, 1120.5489000000002, 1130.0089000000003, 1133.5289000000002, 1144.5289000000002, 1133.0889000000002, 1142.7689, 1147.6089000000002, 1151.1289000000002, 1145.1889, 1186.1089000000002, 1187.8689000000004, 1138.1489000000001, 1134.6289000000002, 1145.4089000000001, 1133.7489, 1120.3289000000002, 1124.7289, 1101.6289000000002, 1069.0689000000002, 1092.1689000000001, 1104.0489000000002, 1072.8089, 1093.7089, 1070.3889, 1073.9089000000001, 1033.8689000000002, 1032.7689, 1058.9489000000003, 1050.1489000000001, 1053.2289, 1033.8689000000002, 1013.6289000000002, 1012.5289000000001, 994.4889000000002, 1002.4089000000001, 968.3089000000001, 1017.1489, 985.6889000000001, 992.7289000000001, 989.2089000000002, 1025.2889, 1006.8089000000001, 983.9289000000001, 1006.1489, 996.2489000000002, 963.6889000000001, 943.8889, 967.2089000000002, 952.6889000000001, 978.4289000000001, 974.0289000000001, 957.3089000000001, 977.5489000000001, 983.4889000000002, 981.7289000000001, 998.0089000000002, 991.1889000000001, 979.3089000000001, 991.6289000000002, 972.7089000000002, 1003.7289000000001, 983.9289000000001, 951.3689000000002, 941.4689000000001, 929.8089000000001, 924.3089000000001, 935.3089000000001, 975.3489000000001, 975.5689000000001, 990.7489000000002, 998.2289000000001, 1026.6089000000002, 1023.7489000000002, 1026.1689000000001, 994.0489000000001, 994.9289000000001, 1007.9089000000001, 981.2889000000001, 1001.7489000000002, 1012.3089000000001, 1023.3089000000001, 1031.2289, 1023.0889000000001, 1020.6689000000001, 1022.2089000000002, 1052.1289000000002, 1039.8089, 1044.4289, 1043.9889000000003, 1025.7289, 1012.0889000000001, 997.7889000000001, 966.9889000000002, 967.8689000000002, 961.0489000000001, 965.2289000000001, 960.6089000000001, 969.6289000000002, 951.5889000000001, 953.1289000000002, 947.4089000000001, 932.6689000000001, 933.1089000000001, 919.9089000000001, 941.2489000000002, 924.7489000000002, 935.9689000000001, 966.3289000000002, 975.5689000000001, 997.7889000000001, 978.2089000000002, 996.6889000000001, 1018.2489000000002, 1010.7689, 1040.6889, 1031.8889, 1037.6089000000002, 1037.8289000000002, 1017.3689000000002, 1042.2289, 1029.0289000000002, 1014.7289000000001, 996.2489000000002, 1010.6039000000001, 995.8089000000001, 992.9489000000002, 981.0689000000001, 973.3689000000002, 989.8689000000002, 992.9489000000002, 1008.1289000000002, 1013.8489000000001, 1005.4889000000002, 1000.8689000000002, 1010.1089000000001, 1024.8489, 1012.5289000000001, 987.8889, 953.3489000000001, 976.4489000000002, 965.2289000000001, 974.2489000000002, 965.4489000000002, 965.4489000000002, 951.5889000000001, 954.4489000000002, 961.9289000000001, 961.2689, 963.9089000000001, 959.2889000000001, 949.1689000000001, 965.8889, 1011.6489, 1036.7289, 1027.2689, 1013.8489000000001, 1029.6889, 1016.4889000000002, 1007.4689000000001, 1017.8089000000001, 1007.4689000000001, 998.0089000000002, 1008.5689000000001, 1003.0689000000001, 983.2689, 963.9089000000001, 975.5689000000001, 963.0289000000001, 970.0689000000001, 958.8489000000001, 975.3489000000001, 1000.8689000000002, 1007.4689000000001, 1013.9589000000002, 999.5489000000001, 1021.7689, 1033.8689000000002, 1047.5089000000003, 1049.2689, 1033.4289, 1020.6689000000001, 1016.3239000000002, 1008.7889000000001, 1014.9489000000002, 1038.0489000000002, 1063.5689000000002, 1061.8089, 1074.7889, 1073.4689, 1067.9689, 1065.1089000000002, 1069.2889, 1094.8089, 1107.5689000000002, 1119.4489000000003, 1114.6089000000002, 1096.1289000000002, 1090.8489, 1095.2489, 1119.6689000000001, 1113.9489000000003, 1124.0689000000002, 1120.5489000000002, 1097.6689000000001, 1120.5489000000002, 1132.4289, 1126.4889000000003, 1123.1889, 1125.6089000000002, 1128.2489, 1115.9289, 1124.7289, 1146.5089000000003, 1135.9489000000003, 1136.1689000000001, 1117.0289000000002, 1137.0489000000002, 1142.3289000000002, 1128.4689, 1137.7089, 1160.5889000000002, 1159.9289, 1166.0889000000002, 1190.7289, 1188.0889000000002, 1192.0489000000002, 1148.2689, 1147.1689000000001, 1146.0689000000002, 1163.0089000000003, 1163.2289, 1139.2489, 1130.6689000000001, 1149.8089, 1137.4889000000003, 1130.2289, 1156.8489, 1160.3689000000004, 1137.7089, 1142.3289000000002, 1132.6489000000001, 1117.4689, 1099.8689000000002, 1116.3689000000002, 1142.3289000000002, 1139.9089000000001, 1136.3889, 1139.2489, 1142.1089000000002, 1144.9689, 1147.1689000000001, 1148.4889000000003, 1157.9489000000003, 1150.2489, 1155.7489, 1155.5289000000002, 1160.8089, 1184.1289000000002, 1178.8489, 1166.5289000000002, 1166.9689000000003, 1162.1289000000002, 1153.5489000000002, 1125.3889, 1123.6289000000002, 1103.1689000000001, 1118.3511000000003, 1116.3689000000002, 1119.0089000000003, 1117.4689, 1128.6889, 1137.0489000000002, 1144.7489, 1139.9089000000001, 1130.0089000000003, 1146.2889, 1137.0489000000002, 1129.7889, 1126.9289, 1125.1689000000001, 1129.5689000000002, 1109.1089000000002, 1106.0289000000002, 1085.3489, 1079.4089000000001, 1099.8689000000002, 1105.8089, 1104.0489000000002, 1084.9089000000001, 1072.1489000000001, 1067.5289000000002, 1065.9889000000003, 1069.9489000000003, 1077.4289, 1087.3289000000002, 1054.7689, 1051.4689, 1050.5889000000002, 1027.7089, 1031.8889, 1024.6289000000002, 1037.6089000000002, 1039.1489000000001, 1052.7889, 1051.3589000000002, 1031.0089000000003, 1023.9689000000001, 1033.6489000000001, 1026.6089000000002, 1036.0689000000002, 1031.2289, 1017.5889000000001, 1004.8289000000002, 1013.4089000000001, 1005.9289000000001, 1025.9489000000003, 1036.7289, 1050.8089, 1038.7089, 1028.3689000000002, 1045.0889000000002, 1032.3289000000002, 1003.5089000000002, 1002.6289000000002, 1007.6889000000001, 1023.7489000000002, 1015.6089000000001, 1012.3089000000001, 1024.6289000000002, 1037.1689000000001, 1066.4289, 1064.2289, 1053.2289, 1047.7289, 1030.7889, 1031.0089000000003, 1025.9489000000003, 1025.7289, 1012.5289000000001, 1013.8489000000001, 970.2889000000001, 963.2489000000002, 885.3689000000002, 936.8489000000001, 892.1889000000001, 943.2289000000001, 926.0689000000001, 947.4089000000001, 928.7089000000002, 940.5889000000001, 910.2289000000001, 891.7489000000002, 871.0689000000001, 901.2089000000002, 924.3089000000001, 921.8889, 932.6689000000001, 964.1289000000002, 951.3689000000002, 962.3689000000002, 934.6489, 897.9089000000001, 871.7289000000001, 902.0889000000001, 873.2689, 841.8089000000001, 849.2889000000001, 850.8289000000002, 857.6489, 879.8689000000002, 871.5089000000002, 850.8289000000002, 845.5489000000001, 803.5289000000001, 779.9889000000001, 787.0289000000001, 832.3489000000001, 830.5889000000001, 806.3889, 826.6289000000002, 798.6889000000001, 766.3489000000001, 801.7689000000001, 814.5289000000001, 848.4089000000001, 811.4489000000001, 846.6489, 846.6489, 866.4489000000002, 831.2489000000002, 837.6289000000002, 818.9289000000001, 859.1889000000001, 845.5489000000001, 864.9089000000001, 871.2889000000001, 896.5889000000001, 872.8289000000002, 888.0089000000002, 950.4889000000002, 943.2289000000001, 900.7689, 855.6689000000001, 876.1289000000002, 892.4089000000001, 883.3889, 889.3289000000002, 906.4889000000002, 851.9289000000001, 856.3289000000002, 868.2089000000002, 852.1489, 855.4489000000002, 828.3889, 806.8289000000001, 809.6889000000001, 794.0689000000001, 783.0689000000001, 760.4089000000001, 762.6089000000002, 777.5689000000001, 764.3689, 817.3889, 806.1689000000001, 847.3089000000001, 873.2689, 867.1089000000001, 884.0489000000001, 844.8889, 866.0089000000002, 840.9289000000001, 824.4289000000001, 829.2689000000001, 834.7689000000001, 837.6289000000002, 811.4489000000001, 844.6689000000001, 847.0889000000001, 871.9489000000002, 874.5889000000001, 862.7089000000002, 854.3489000000001, 871.2889000000001, 867.5489000000001, 905.6089000000001, 904.9489000000002, 921.0089000000002, 913.9689000000001, 912.6489, 929.1489, 942.5689000000001, 946.7489000000002, 926.2889000000001, 904.0689000000001, 939.9289000000001, 948.5089000000002, 957.9689000000001, 964.5689000000001, 964.5689000000001, 963.2489000000002, 960.8289000000002, 954.6689000000001, 950.2689, 956.6489, 963.2489000000002, 962.1489, 978.2089000000002, 975.1289000000002, 969.1889000000001, 978.6489, 968.9689000000001, 963.4689000000001, 978.6489, 970.2889000000001, 958.8489000000001, 972.0489000000001, 982.3889, 982.1689000000001, 973.5889000000001, 982.8289000000002, 978.2089000000002, 995.3689000000002, 998.6689000000001, 999.3289000000002, 1024.1889, 1029.9089000000001, 1024.8489, 1001.0889000000001, 1014.9489000000002, 1025.7289, 1038.7089, 1027.9289, 1090.6289000000002, 1094.8089, 1119.4489000000003, 1116.5889000000002, 1126.0489000000002, 1134.4089000000001, 1128.6889, 1118.3489, 1129.5689000000002, 1151.7889, 1145.6289000000002, 1153.9889000000003, 1140.7889, 1147.6089000000002, 1150.9089000000001, 1135.2889, 1113.0689000000002, 1111.5289000000002, 1101.6289000000002, 1081.1689000000001, 1104.2689, 1122.5289000000002, 1086.6689000000001, 1089.3089, 1101.8489, 1088.4289, 1086.8889, 1075.8889, 1078.7489, 1088.2089, 1085.5689000000002, 1099.6489000000001, 1089.5289000000002, 1081.6089000000002, 1099.4289, 1086.4489000000003, 1082.2689, 1054.5489000000002, 1055.2089, 1046.4089000000001, 1030.1289000000002, 1032.3289000000002, 949.1689000000001, 923.4289000000001, 933.3289000000002, 916.1689000000001, 882.5089000000002, 872.8289000000002, 851.2689, 884.2689, 889.7689, 883.3889, 873.0489000000001, 875.9089000000001, 861.1689000000001, 865.3489000000001, 838.5089000000002, 818.0489000000001, 839.8289000000001, 863.5889000000001, 857.8689000000002, 877.0089000000002, 858.0889000000001, 878.9889000000002, 890.6489, 898.3489000000001, 906.7089000000002, 897.6889000000001, 914.4089000000001, 937.9489000000002, 917.2689, 927.8289000000002, 913.0889000000001, 921.6689000000001, 945.2089000000002, 925.4089000000001, 922.1089000000001, 934.2089000000002, 925.4089000000001, 892.4089000000001, 881.8489000000001, 883.1689000000001, 889.5489000000001, 897.0289000000001, 884.9289000000001, 929.5889000000001, 908.0289000000001, 905.8289000000002, 905.1689000000001, 894.1689000000001, 881.8489000000001, 893.7289000000001, 900.1089000000001, 909.7889000000001, 923.8689000000002, 947.6289000000002, 931.1289000000002, 928.0489000000001, 928.0489000000001, 909.7889000000001, 930.0289000000001, 934.6489, 950.2689, 953.5689000000001, 948.2889000000001, 949.3889, 949.8289000000002, 952.2489000000002, 951.5889000000001, 952.2489000000002, 949.6089000000001, 958.1889000000001, 972.9289000000001, 968.3089000000001, 955.1089000000001, 953.7889000000001, 955.1089000000001, 952.9089000000001, 956.6489, 947.8489000000001, 953.1289000000002, 950.2689, 952.4689000000001, 987.2289000000001, 1000.6489, 988.7689, 1007.2489000000002, 1014.2889000000001, 1046.8489, 1050.5889000000002, 1042.2289, 1043.7689, 1045.5289000000002, 1043.5489000000002, 1035.4089000000001, 1043.1089000000002, 1028.1489000000001, 1021.3289000000002, 1031.0089000000003, 1026.6089000000002, 1037.3889, 1036.2889, 1034.9689, 1056.0889000000002, 1053.6689000000001, 1052.5689000000002, 1046.4089000000001, 1054.9889000000003, 1062.2489, 1051.6889, 1068.4089000000001, 1078.3089, 1089.0889000000002, 1082.2689, 1067.0889000000002, 1062.0289000000002, 1045.3089, 1053.6689000000001, 1052.7889, 1041.5689000000002, 1053.0089000000003, 1078.5289000000002, 1069.2889, 1065.9889000000003, 1079.4089000000001, 1026.6089000000002, 1024.8489, 1029.6889, 1028.8089, 1016.9289000000001, 1000.4289000000001, 1002.6289000000002, 1005.7089000000002, 1029.0289000000002, 1031.4489000000003, 1032.1089000000002, 1040.0289000000002, 1035.4089000000001, 1032.5489000000002, 1034.3089, 1042.8889, 1039.8089, 1033.8689000000002, 1028.5889000000002, 1042.4489000000003, 1048.3889, 1072.3689000000002, 1066.8689000000002, 1074.1289000000002, 1076.9889000000003, 1077.2089, 1077.8689000000002, 1092.6089000000002, 1101.1889, 1093.7089, 1115.7089, 1104.0489000000002, 1102.2889, 1103.1689000000001, 1095.9089000000001, 1087.3289000000002, 1103.3691, 1118.5689000000002, 1116.5889000000002, 1133.9689, 1135.0689000000002, 1137.0489000000002, 1136.3889, 1151.3489, 1151.1289000000002, 1145.4089000000001, 1155.7489, 1166.0889000000002, 1157.7289, 1158.1689000000001, 1159.9289, 1153.1089000000002, 1156.1889, 1173.5689000000002, 1162.1289000000002, 1172.6889, 1172.9089000000004, 1171.1489000000001, 1188.7489, 1185.0089000000003, 1209.4288999999999, 1205.4689000000003, 1197.1089000000002, 1205.9089000000004, 1206.5689000000002, 1217.1289000000002, 1207.0089000000003, 1218.8889, 1211.4089000000004, 1223.9489000000003, 1205.4689000000003, 1197.5489000000002, 1212.0689000000002, 1185.4489000000003, 1183.2489, 1220.2089, 1212.2889, 1212.0689000000002, 1216.2489, 1224.8289, 1236.7089, 1249.9089000000004, 1240.4489000000003, 1246.6089000000002, 1242.2089, 1239.5689000000002, 1258.0489000000002, 1236.4889000000003, 1225.2689, 1218.4489000000003, 1216.6889, 1199.7489, 1209.2089, 1203.4889000000003, 1206.1289000000002, 1186.9889000000003, 1180.1689000000001, 1188.3089, 1198.2089, 1166.7489, 1180.8289, 1190.0689000000002, 1204.8089, 1207.0089000000003, 1219.5489000000002, 1220.8689000000004, 1214.2689, 1190.5089000000003, 1202.8289, 1165.4288999999999, 1162.1289000000002, 1175.1089000000002, 1177.7489, 1195.7889, 1207.8889, 1214.0489000000002, 1211.4089000000004, 1212.2889, 1214.2689, 1192.2689, 1193.8089, 1182.5889000000002, 1196.0089000000003, 1217.1289000000002, 1230.7689, 1214.9288999999999, 1213.1689000000001, 1228.7889, 1241.1089000000002, 1260.0289000000002, 1257.3889, 1286.6489000000001, 1286.4288999999999, 1302.4889000000003, 1315.9089000000004, 1309.7489, 1316.5689000000002, 1337.2489, 1338.7889, 1359.6889, 1337.0289000000002, 1334.8289, 1324.9288999999999, 1302.7089, 1313.0489000000002, 1329.9889000000003, 1331.9689000000003, 1312.8289, 1306.0089000000003, 1327.7889, 1304.9089000000004, 1320.7489, 1326.4689000000003, 1314.1489000000001, 1290.6089000000002, 1279.1689000000001, 1256.2889, 1281.8089, 1291.0489000000002, 1305.3489, 1297.4288999999999, 1290.8289, 1297.6489000000001, 1296.9889000000003, 1323.8289, 1339.4489000000003, 1343.6289000000002, 1342.3089, 1349.1289000000002, 1345.3889, 1343.6289000000002, 1346.2689, 1351.9889000000003, 1376.1889, 1371.5689000000002, 1380.3689000000004, 1382.7889, 1381.9089000000004, 1379.0489000000002, 1369.1489000000001, 1361.2289, 1353.3089, 1362.1089000000002, 1379.9288999999999, 1378.8289, 1370.2489, 1356.8289, 1352.6489000000001, 1342.3089, 1335.4889000000003, 1326.0289000000002, 1330.4288999999999, 1327.3489, 1308.4288999999999, 1308.4288999999999, 1276.3089, 1282.6889, 1271.9089000000004, 1284.6689000000001, 1287.0889000000002, 1275.6489000000001, 1249.2489, 1248.8089, 1251.4489000000003, 1247.7089, 1260.9089000000004, 1277.1889, 1282.4689000000003, 1292.3689000000004, 1298.9689000000003, 1316.7889, 1307.7689, 1285.3289, 1293.0289000000002, 1305.1289000000002, 1304.0289000000002, 1311.0689000000002, 1296.5489000000002, 1297.6489000000001, 1268.1689000000001, 1243.0889000000002, 1273.4489000000003, 1277.6289000000002, 1285.3289, 1273.2289, 1279.1689000000001, 1282.0289000000002, 1278.7289, 1294.7889, 1276.3089, 1255.1889, 1252.5489000000002, 1291.4889000000003, 1291.2689, 1295.6689000000001, 1286.8689000000004, 1324.0489000000002, 1328.6689000000001, 1330.6489000000001, 1329.9889000000003, 1315.6889, 1296.5489000000002, 1290.6089000000002, 1296.9889000000003, 1295.0089000000003, 1296.1089000000002, 1293.2489, 1269.9288999999999, 1291.2689, 1280.9288999999999, 1278.9489000000003, 1282.2489, 1272.3489, 1323.1689000000001, 1326.2489, 1323.3889, 1327.1289000000002, 1332.8489, 1343.1889, 1362.3289, 1371.3489, 1370.2489, 1394.8889, 1400.1689000000001, 1404.3489, 1393.7889, 1400.6089000000002, 1394.8889, 1389.6089000000002, 1386.9689000000003, 1394.2289, 1364.0889000000002, 1369.3689000000004, 1379.2689, 1383.4489000000003, 1369.5889000000002, 1374.8689000000004, 1371.7889, 1377.2889, 1361.8889, 1395.3289, 1395.1089000000002, 1405.4489000000003, 1417.3289, 1417.5489000000002, 1416.4489000000003, 1415.1289000000002, 1410.9489000000003, 1422.6089000000002, 1416.6689000000001, 1426.5689000000002, 1434.0489000000002, 1419.0889000000002, 1431.1889, 1428.7689, 1422.8289, 1405.4489000000003, 1406.3289, 1444.8289, 1433.8289, 1414.4689000000003, 1415.7889, 1403.0289000000002, 1378.3889, 1348.0289000000002, 1348.0289000000002, 1362.3289, 1357.7089, 1368.0489000000002, 1353.9689000000003, 1330.8689000000004, 1344.9489000000003, 1350.6689000000001, 1378.6089000000002, 1381.6889, 1384.3289, 1399.5089000000003, 1401.4889000000003, 1412.7089, 1415.3489, 1422.8289, 1395.7689, 1402.8089, 1403.4689000000003, 1412.7089, 1390.7089, 1384.5489000000002, 1383.2289, 1386.0889000000002, 1372.6689000000001, 1395.7689, 1415.5689000000002, 1431.8489, 1442.8489, 1438.4489000000003, 1416.2289, 1410.2889, 1399.2889, 1385.6489000000001, 1402.8089, 1413.3689000000004, 1418.6489000000001, 1458.4689000000003, 1459.7889, 1479.5889000000002, 1476.5089000000003, 1453.8489, 1454.2889, 1456.9288999999999, 1471.6689000000001, 1470.7889, 1466.6089000000002, 1470.5689000000002, 1451.8689000000004, 1434.0489000000002, 1430.7489, 1439.9889000000003, 1398.8489, 1352.6489000000001, 1345.1689000000001, 1341.6489000000001, 1351.7689, 1350.8889, 1346.7089, 1363.8689000000004, 1369.1489000000001, 1372.2289, 1361.4489000000003, 1356.8289, 1370.2489, 1367.6089000000002, 1361.8889, 1358.8089, 1328.8889, 1309.5289000000002, 1325.1489000000001, 1331.9689000000003, 1324.2689, 1338.3489, 1337.6889, 1331.9689000000003, 1313.2689, 1308.8689000000004, 1320.3089, 1317.8889, 1326.6889, 1336.1489000000001, 1335.7089, 1349.1289000000002, 1355.9489000000003, 1361.8889, 1358.5889000000002, 1353.7489, 1359.2489, 1361.0089000000003, 1381.9089000000004, 1389.3889, 1399.2889, 1409.8489, 1395.9889000000003, 1390.9288999999999, 1390.9288999999999, 1387.1889, 1399.2889, 1407.2089, 1396.6489000000001, 1402.1489000000001, 1416.2289, 1399.2889, 1401.7089, 1398.6289000000002, 1401.7089, 1403.6889, 1402.5889000000002, 1389.3889, 1391.1489000000001, 1382.7889, 1362.7689, 1368.4889000000003, 1358.3689000000004, 1363.6489000000001, 1374.4288999999999, 1417.9889000000003, 1427.6689000000001, 1408.9689000000003, 1417.1089000000002, 1417.3289, 1426.7889, 1434.0489000000002, 1437.7889, 1434.2689, 1438.2289, 1426.1289000000002, 1432.0689000000002, 1404.7889, 1378.6089000000002, 1382.3489, 1369.3689000000004, 1373.1089000000002, 1366.0689000000002, 1375.5289000000002, 1375.0889000000002, 1375.7489, 1383.8889, 1389.6089000000002, 1384.5489000000002, 1395.1089000000002, 1402.3689000000004, 1404.1289000000002, 1423.0489000000002, 1422.8289, 1441.5289000000002, 1450.3289, 1447.0289000000002, 1437.5689000000002, 1443.9489000000003, 1448.7889, 1449.4489000000003, 1449.6689000000001, 1454.0689000000002, 1453.6289000000002, 1435.3689000000004, 1438.8889, 1450.7689, 1456.7089, 1454.7289, 1455.8289, 1462.8689000000004, 1485.0889000000002, 1480.4689000000003, 1476.0689000000002, 1476.7289, 1491.9089000000004, 1459.3489, 1468.3689000000004, 1463.3089, 1461.3289, 1450.9889000000003, 1430.5289000000002, 1462.6489000000001, 1460.0089000000003, 1439.9889000000003, 1464.8489, 1435.8089, 1423.4889000000003, 1415.5689000000002, 1411.8289, 1357.7089, 1347.8089, 1372.4489000000003, 1381.9089000000004, 1410.5089000000003, 1399.9489000000003, 1413.3689000000004, 1428.3289, 1426.1289000000002, 1447.9089000000004, 1440.4288999999999, 1442.6289000000002, 1466.6089000000002, 1475.4089000000004, 1461.5489000000002, 1481.3489, 1483.1089000000002, 1488.3889, 1498.5089000000003, 1486.1889, 1468.3689000000004, 1461.1089000000002, 1462.2089, 1464.4089000000004, 1467.7089, 1469.2489, 1458.6889, 1465.9489000000003, 1477.1689000000001, 1462.6489000000001, 1463.5289000000002, 1459.5689000000002, 1456.0489000000002, 1479.8089, 1489.9288999999999, 1486.4089000000004, 1515.4489000000003, 1514.7889, 1509.9489000000003, 1471.0089000000003, 1481.1289000000002, 1456.9288999999999, 1437.5689000000002, 1421.5089000000003, 1450.9889000000003, 1488.6089000000002, 1498.5089000000003, 1498.7289, 1510.6089000000002, 1510.6089000000002, 1512.1489000000001, 1521.1689000000001, 1525.3489, 1512.8089, 1510.8289, 1468.1489000000001, 1433.6089000000002, 1435.5889000000002, 1464.6289000000002, 1441.5289000000002, 1430.3089, 1430.5289000000002, 1385.8689000000004, 1345.8289, 1366.5089000000003, 1361.6689000000001, 1365.6289000000002, 1403.0289000000002, 1383.0089000000003, 1384.9889000000003, 1372.4489000000003, 1340.5489000000002, 1360.7889, 1332.4089000000004, 1356.3889, 1383.8889, 1376.4089000000004, 1384.9889000000003, 1409.6289000000002, 1408.0889000000002, 1422.1689000000001, 1420.1889, 1446.5889000000002, 1448.7889, 1458.2489, 1442.1889, 1439.1089000000002, 1451.6489000000001, 1441.7489, 1474.0889000000002, 1481.1289000000002, 1490.8089, 1484.2089, 1494.9889000000003, 1499.3889, 1502.9089000000004, 1500.0489000000002, 1475.6289000000002, 1489.0489000000002, 1455.1689000000001, 1461.3289, 1486.1889, 1478.0489000000002, 1496.7489, 1491.4689000000003, 1494.5489000000002, 1482.4489000000003, 1494.5489000000002, 1481.1289000000002, 1466.1689000000001, 1447.4689000000003, 1445.9288999999999, 1446.1489000000001, 1477.1689000000001, 1468.8089, 1454.9489000000003, 1467.4889000000003, 1466.3889, 1474.7489, 1479.1489000000001, 1488.3889, 1493.4489000000003, 1501.5889000000002, 1522.9288999999999, 1548.6689000000001, 1539.8689000000004, 1518.5289000000002, 1527.3289, 1506.8689000000004, 1520.7289, 1517.6489000000001, 1513.2489, 1507.5289000000002, 1516.7689, 1535.2489, 1527.7689, 1535.4689000000003, 1559.8889, 1552.8489000000004, 1542.2889, 1555.0489000000002, 1576.8289, 1575.9489000000003, 1573.9689000000003, 1577.4888999999998, 1589.1489000000001, 1585.4089, 1597.2889, 1610.2689, 1598.6089000000002, 1602.3489000000004, 1598.3889, 1582.1089000000002, 1598.3889, 1592.4489000000003, 1583.2089, 1589.8089, 1588.4888999999998, 1603.4489000000003, 1595.3089, 1619.2889, 1607.6289000000002, 1614.0089000000003, 1637.7689, 1643.4888999999998, 1637.5489000000002, 1631.8289, 1640.1889, 1635.1289000000002, 1649.2089, 1633.8089, 1653.1689000000001, 1670.5489000000002, 1654.4888999999998, 1646.3489000000004, 1652.9489000000003, 1614.4489000000003, 1626.7689, 1633.5889000000002, 1621.4888999999998, 1617.3089, 1605.6489000000001, 1575.5089000000003, 1590.4689000000003, 1611.1489000000001, 1634.0289000000002, 1654.9289000000003, 1658.2289, 1666.3689000000004, 1658.6689000000001, 1659.7689, 1656.2489, 1677.8089, 1668.1289000000002, 1652.0689000000002, 1632.2689, 1633.1489000000001, 1652.7289, 1654.9289000000003, 1643.7089, 1643.7089, 1642.1689000000001, 1648.1089000000002, 1637.5489000000002, 1633.1489000000001, 1651.6289000000002, 1637.1089000000002, 1615.3289, 1622.1489000000001, 1629.6289000000002, 1633.5889000000002, 1636.6689000000001, 1623.2489, 1586.7289, 1535.2489, 1461.5489000000002, 1454.0689000000002, 1520.0689000000002, 1554.6089000000002, 1546.9089, 1546.2489, 1487.9489000000003, 1512.5889000000002, 1515.0089000000003, 1489.0489000000002, 1525.5689000000002, 1504.0089000000003, 1514.5689000000002, 1512.3689000000004, 1508.4089000000004, 1534.8089, 1547.1289000000002, 1514.3489, 1476.7289, 1487.9489000000003, 1476.0689000000002, 1470.1289000000002, 1460.8889, 1488.3889, 1455.6089000000002, 1452.5289000000002, 1477.3889, 1487.2889, 1473.8689000000004, 1500.4889000000003, 1501.1489000000001, 1502.9089000000004, 1502.9089000000004, 1498.5089000000003, 1493.8889, 1490.1489000000001, 1455.8289, 1497.6289000000002, 1509.5089000000003, 1504.8889, 1511.4889000000003, 1501.3689000000004, 1526.2289, 1541.1889, 1541.8489, 1536.1289000000002, 1577.0489000000002, 1570.6689000000001, 1549.5489000000002, 1577.9289000000003, 1583.2089, 1584.7489, 1597.7289, 1642.1689000000001, 1618.6289000000002, 1625.0089000000003, 1617.7489, 1588.0489000000002, 1578.3689000000004, 1599.2689, 1590.9089, 1619.9489000000003, 1624.5689000000002, 1621.9289000000003, 1607.4089, 1605.2089, 1606.9689000000003, 1613.7889, 1603.0089000000003, 1623.4689000000003, 1602.5689000000002, 1583.6489000000001, 1629.6289000000002, 1610.0489000000002, 1587.1689000000001, 1576.1689000000001, 1579.4689000000003, 1545.5889000000002, 1549.9888999999998, 1590.2489, 1621.7089, 1594.2089, 1552.8489000000004, 1577.9289000000003, 1581.0089000000003, 1604.1089000000002, 1601.2489, 1596.4089, 1611.5889000000002, 1601.0289000000002, 1588.7089, 1535.6889, 1538.1089000000002, 1517.8689000000004, 1461.9889000000003, 1432.2889, 1430.3089, 1433.1689000000001, 1397.5289000000002, 1416.4489000000003, 1390.9288999999999, 1390.2689, 1357.2689, 1351.5489000000002, 1388.9489000000003, 1360.5689000000002, 1391.8089, 1390.9288999999999, 1396.2089, 1445.0489000000002, 1430.9689000000003, 1390.7089, 1399.0689000000002, 1420.8489, 1406.5489000000002, 1379.9288999999999, 1372.4489000000003, 1357.4889000000003, 1303.5889000000002, 1400.8289, 1419.7489, 1428.9889000000003, 1407.8689000000004, 1408.0889000000002, 1424.5889000000002, 1370.6889, 1371.1289000000002, 1390.2689, 1401.9288999999999, 1374.6489000000001, 1438.4489000000003, 1450.7689, 1455.1689000000001, 1457.1489000000001, 1454.7289, 1429.2089, 1436.6889, 1425.4689000000003, 1441.5289000000002, 1436.6889, 1438.4489000000003, 1432.2889, 1428.5489000000002, 1466.6089000000002, 1466.1689000000001, 1461.3289, 1454.7289, 1444.6089000000002, 1442.8489, 1434.7089, 1449.6689000000001, 1438.8889, 1453.1889, 1438.4489000000003, 1419.9689000000003, 1429.8689000000004, 1397.0889000000002, 1406.3289, 1416.4489000000003, 1440.2089, 1495.4288999999999, 1513.0289000000002, 1497.1889, 1505.9889000000003, 1529.0889000000002, 1549.3289, 1535.2489, 1543.3889, 1535.2489, 1542.5089000000003, 1546.4689000000003, 1535.2489, 1526.4489000000003, 1539.4288999999999, 1512.3689000000004, 1490.5889000000002, 1483.3289, 1491.2489, 1482.6689000000001, 1500.9288999999999, 1495.8689000000004, 1494.9889000000003, 1482.4489000000003, 1492.5689000000002, 1492.5689000000002, 1544.9289000000003, 1530.6289000000002, 1533.2689, 1532.1689000000001, 1555.9289000000003, 1577.4888999999998, 1566.7089, 1575.5089000000003, 1571.9888999999998, 1581.2289, 1583.8689000000004, 1558.1289000000002, 1572.2089, 1567.3689000000004, 1571.5489000000002, 1560.5489000000002, 1540.5289000000002, 1527.9889000000003, 1501.8089, 1499.3889, 1504.8889, 1506.2089, 1508.1889, 1520.9489000000003, 1515.6689000000001, 1545.1489000000001, 1447.2489, 1403.4689000000003, 1445.4889000000003, 1482.4489000000003, 1503.1289000000002, 1483.7689, 1446.1489000000001, 1460.2289, 1468.8089, 1496.3089, 1505.9889000000003, 1526.4489000000003, 1525.5689000000002, 1546.6889, 1548.0089000000003, 1543.1689000000001, 1540.9689000000003, 1542.5089000000003, 1537.2289, 1544.9289000000003, 1541.1889, 1546.9089, 1551.3089, 1546.2489, 1543.3889, 1539.6489000000001, 1536.3489, 1558.5689000000002, 1556.3689000000004, 1594.6489000000001, 1590.2489, 1585.1889, 1572.2089, 1576.1689000000001, 1573.0889000000002, 1581.8889, 1581.6689000000001, 1585.6289000000002, 1586.9489000000003, 1584.9689000000003, 1583.6489000000001, 1582.9888999999998, 1586.9489000000003, 1589.5889000000002, 1592.8889, 1608.9489000000003, 1621.0489000000002, 1621.0489000000002, 1614.6689000000001, 1620.8289, 1619.7289, 1613.5689000000002, 1615.5489000000002, 1602.3489000000004, 1611.3689000000004, 1599.7089, 1596.8489000000004, 1602.1289000000002, 1584.0889000000002, 1592.2289, 1598.1689000000001, 1606.5289000000002, 1618.6289000000002, 1615.5489000000002, 1583.2089, 1595.9689000000003, 1603.6689000000001, 1580.3489000000004, 1601.0289000000002, 1599.2689, 1601.2489, 1625.2289, 1629.1889, 1634.4689000000003, 1646.1289000000002, 1638.8689000000004, 1634.9089, 1626.3289, 1621.4888999999998, 1613.7889, 1625.4489000000003, 1639.7489, 1637.7689, 1642.8289, 1651.1889, 1649.6489000000001, 1656.9089, 1659.1089000000002, 1656.4689000000003, 1659.7689, 1653.3889, 1647.0089000000003, 1640.4089, 1626.7689, 1673.4089, 1676.7089, 1747.5489000000002, 1822.3489000000004, 1823.2289, 1885.2689, 1881.9689000000003, 1838.8489000000004, 1852.4888999999998, 1845.6689000000001, 1853.1489000000001, 1863.7089, 1870.9689000000003, 1870.3089, 1859.0889000000002, 1872.2889, 1899.7889, 1935.4289000000003, 1931.2489, 1967.7689, 1977.2289, 1985.5889000000002, 2008.6889, 2016.8289, 2000.1089000000002, 2000.7689, 2000.1089000000002, 2028.0489000000002, 2004.7289, 2015.5089000000003, 2039.7089, 2044.5489000000002, 2047.6289000000002, 2051.1489, 2052.9089, 2039.0489000000002, 2025.6289000000002, 2034.4289000000003, 2055.1089, 2048.0689, 2030.4689000000003, 2030.6889, 2032.0089000000003, 2037.5089000000003, 2051.8089, 2033.3289, 2043.4489000000003, 1974.1489000000001, 1982.7289, 1968.6489000000001, 1976.7889, 1977.6689000000001, 1999.8889, 2028.7089, 2044.5489000000002, 2048.5089000000003, 2028.7089, 1997.9089, 2004.9489000000003, 1997.0289000000002, 2054.0089000000003, 2044.9888999999998, 2043.8889, 2027.1689000000001, 2054.4489000000003, 2050.0489000000002, 2075.3489000000004, 2106.3689000000004, 2129.0289000000002, 2127.7089, 2121.1089, 2138.2689, 2139.3689000000004, 2140.9089, 2123.3089, 2125.5089000000003, 2129.6889, 2195.2489, 2163.1289, 2177.6489, 2158.2889, 2147.0689, 2142.6689, 2150.5889, 2144.2089, 2145.9689000000003, 2149.2689, 2154.1089, 2152.1289, 2131.0089000000003, 2116.7089, 2058.6289, 2061.7089, 2058.6289, 2056.4289000000003, 2055.3289, 2085.2489, 2077.9889, 2094.7089, 2068.5289000000002, 2061.4889, 2056.8689000000004, 2032.2289, 2038.6089000000002, 2032.0089000000003, 2025.4089, 2022.1089000000002, 2014.8489000000004, 1992.8489000000004, 2024.9689000000003, 2009.5689000000002, 1994.1689000000001, 2018.1489000000001, 1995.4888999999998, 2061.0489000000002, 2077.7689, 2081.5089000000003, 2063.4689000000003, 2050.0489000000002, 2051.3689000000004, 2039.0489000000002, 2050.0489000000002, 2052.2489, 2050.0489000000002, 2052.2489, 2044.5489000000002, 2059.5089000000003, 2053.5689, 2048.2889, 2057.5289000000002, 2063.4689000000003, 1989.9888999999998, 1983.1689000000001, 2001.2089, 1999.4489000000003, 2022.7689, 2021.6689000000001, 2013.7489, 2013.9689000000003, 1981.8489000000004, 1943.3489000000004, 1963.3689000000004, 1954.1289000000002, 1957.4289000000003, 1961.1689000000001, 1982.0689000000002, 2004.9489000000003, 2049.1689, 2049.6089, 2055.9889, 2052.0289000000002, 2040.5889000000002, 2032.0089000000003, 2073.5889, 2061.4889, 2052.6889, 2050.4889, 2046.9689000000003, 2055.3289, 2073.1489, 2112.0889, 2141.3489000000004, 2146.8489000000004, 2176.5489000000002, 2197.0089000000003, 2190.4089, 2200.7489, 2186.2289, 2178.3089, 2171.2689, 2184.2489, 2165.5489000000002, 2146.6289, 2139.5889, 2142.4489000000003, 2142.4489000000003, 2135.6289, 2144.2089, 2177.6489, 2158.5089000000003, 2150.1489, 2144.2089, 2155.6489, 2182.7089, 2184.4689000000003, 2171.0489000000002, 2196.5689, 2204.4889000000003, 2197.0089000000003, 2193.7089, 2164.2289, 2147.2889, 2170.8289, 2176.1089, 2162.0289000000002, 2130.3489000000004, 2132.3289, 2129.9089, 2150.3689000000004, 2152.7889, 2149.4889, 2157.6289, 2151.2489, 2140.2489, 2144.8689000000004, 2135.6289, 2153.4489000000003, 2105.2689, 2118.4689000000003, 2083.7089, 2081.2889, 2111.4289000000003, 2135.6289, 2141.3489000000004, 2137.3889, 2151.6889, 2180.2889, 2202.7289, 2217.2489, 2226.7089, 2222.3089, 2206.6889000000006, 2197.4489000000003, 2230.0089000000003, 2234.4089, 2237.2689000000005, 2266.5289000000002, 2277.7489, 2255.9689000000003, 2272.0289000000002, 2268.2889000000005, 2257.0689, 2272.9089, 2266.5289000000002, 2247.8289, 2244.9689000000003, 2288.5289000000002, 2283.6889000000006, 2291.8289, 2294.4689000000003, 2325.2689000000005, 2321.5289000000002, 2356.2889000000005, 2358.4889000000003, 2374.3289, 2374.9889000000003, 2367.0689, 2349.4689000000003, 2356.2889000000005, 2371.0289000000002, 2367.0689, 2353.2089, 2308.5489000000002, 2284.1289, 2283.9089, 2281.2689000000005, 2288.9689000000003, 2275.9889000000003, 2296.2289, 2302.3889000000004, 2295.1289, 2314.2689000000005, 2312.5089000000003, 2306.1289, 2299.0889, 2290.5089000000003, 2365.9689000000003, 2418.1089, 2435.4889000000003, 2441.4289000000003, 2488.9489000000003, 2461.8889000000004, 2444.5089000000003, 2437.6889000000006, 2466.5089000000003, 2459.6889000000006, 2486.7489, 2457.2689000000005, 2438.5689, 2471.1289, 2489.1689, 2479.2689000000005, 2471.1289, 2508.3089, 2499.9489000000003, 2490.4889000000003, 2494.8889000000004, 2507.4289000000003, 2488.7289, 2510.9489000000003, 2513.3689000000004, 2534.9289000000003, 2519.5289000000002, 2523.0489000000002, 2535.1489, 2561.5489000000002, 2574.5289000000002, 2614.7889000000005, 2605.9889000000003, 2621.8289, 2627.7689000000005, 2622.2689000000005, 2651.3089, 2648.6689, 2680.7889000000005, 2681.4489000000003, 2695.0889, 2692.4489000000003, 2668.4689000000003, 2680.7889000000005, 2707.1889000000006, 2650.2089, 2529.6489, 2602.4689000000003, 2619.1889000000006, 2509.4089, 2556.9289000000003, 2594.3289, 2609.5089000000003, 2666.7089, 2677.2689000000005, 2659.0089000000003, 2659.6689, 2670.2289, 2665.6089, 2716.8689000000004, 2748.9889000000003, 2717.9689000000003, 2677.0489000000002, 2631.5089000000003, 2629.0889, 2667.3689000000004, 2669.5689, 2660.1089, 2660.3289, 2732.9289000000003, 2724.5689, 2693.5489000000002, 2664.9489000000003, 2671.3289, 2675.7289, 2655.7089, 2658.1289, 2660.3289, 2554.9489000000003, 2490.2689000000005, 2562.8689000000004, 2515.7889000000005, 2512.0489000000002, 2555.3889000000004, 2508.7489, 2541.3089, 2577.8289, 2597.4089, 2536.0289000000002, 2564.8489000000004, 2611.2689000000005, 2569.6889000000006, 2630.1889000000006, 2562.6489, 2560.6689, 2560.6689, 2541.0889, 2593.8889000000004, 2588.3889000000004, 2576.5089000000003, 2565.0689, 2555.8289, 2558.2489, 2542.8489000000004, 2529.2089, 2529.2089, 2510.2889000000005, 2495.3289, 2521.5089000000003, 2542.1889000000006, 2577.8289, 2631.0689, 2650.4289000000003, 2640.9689000000003, 2641.8489000000004, 2622.7089, 2629.5289000000002, 2621.1689, 2580.9089, 2603.3489000000004, 2622.2689000000005, 2610.8289, 2583.1089, 2570.5689, 2466.5089000000003, 2519.7489, 2490.2689000000005, 2520.8489000000004, 2521.9489000000003, 2508.5289000000002, 2563.9689000000003, 2573.6489, 2580.4689000000003, 2574.3089, 2560.2289, 2555.3889000000004, 2512.7089, 2509.8489000000004, 2516.0089000000003, 2502.1489, 2501.9289000000003, 2501.2689000000005, 2462.5489000000002, 2441.4289000000003, 2442.9689000000003, 2407.3289, 2444.5089000000003, 2428.4489000000003, 2447.8089, 2415.4689000000003, 2417.8889000000004, 2425.3689000000004, 2496.2089, 2481.6889000000006, 2476.6289, 2486.7489, 2475.9689000000003, 2568.8089, 2567.0489000000002, 2589.7089, 2553.6289, 2584.2089, 2629.7489, 2647.3489000000004, 2670.0089000000003, 2662.7489, 2688.7089, 2704.1089, 2664.9489000000003, 2680.5689, 2691.3489000000004, 2712.0289000000002, 2712.6889000000006, 2722.1489, 2727.4289000000003, 2707.4089, 2682.1089, 2641.6289, 2658.3489000000004, 2637.4489000000003, 2660.9889000000003, 2660.9889000000003, 2657.6889000000006, 2673.0889, 2665.3889000000004, 2660.1089, 2659.0089000000003, 2703.6689, 2691.1289, 2682.7689000000005, 2670.2289, 2656.8089, 2669.3489000000004, 2657.0289000000002, 2646.2489, 2651.0889, 2637.6689, 2653.5089000000003, 2623.8089, 2633.4889000000003, 2633.0489000000002, 2640.5289000000002, 2650.6489, 2723.6889000000006, 2745.9089, 2728.7489, 2703.8889000000004, 2696.6289, 2666.4889000000003, 2655.4889000000003, 2618.5289000000002, 2633.0489000000002, 2643.3889000000004, 2666.9289000000003, 2671.9889000000003, 2657.6889000000006, 2673.0889, 2655.4889000000003, 2588.3889000000004, 2514.9089, 2488.9489000000003, 2475.5289000000002, 2525.6889000000006, 2552.3089, 2514.0289000000002, 2510.0689, 2475.9689000000003, 2451.5489000000002, 2408.4289000000003, 2442.9689000000003, 2411.2889000000005, 2442.7489, 2483.4489000000003, 2534.4889000000003, 2533.6089, 2520.4089, 2536.0289000000002, 2547.2489, 2588.6089, 2608.4089, 2584.4289000000003, 2532.9489000000003, 2547.0289000000002, 2497.3089, 2557.5889, 2555.8289, 2574.3089, 2521.9489000000003, 2504.1289, 2482.3489000000004, 2539.7689000000005, 2549.8889000000004, 2576.7289, 2557.3689000000004, 2582.2289, 2605.3289, 2495.1089, 2450.2289, 2408.4289000000003, 2365.9689000000003, 2344.1889000000006, 2358.4889000000003, 2360.6889000000006, 2342.4289000000003, 2314.2689000000005, 2303.9289000000003, 2276.4289000000003, 2257.9489000000003, 2207.7889000000005, 2163.1289, 2247.1689, 2270.9289000000003, 2266.3089, 2283.6889000000006, 2320.8689000000004, 2272.4689000000003, 2351.2289, 2352.7689000000005, 2348.5889, 2344.8489000000004, 2344.6289, 2334.0689, 2356.7289, 2373.0089000000003, 2391.0489000000002, 2400.2889000000005, 2437.0289000000002, 2400.7289, 2395.0089000000003, 2396.3289, 2410.6289, 2421.4089, 2427.7889000000005, 2433.0689, 2413.0489000000002, 2421.4089, 2429.5489000000002, 2419.4289000000003, 2418.3289, 2388.4089, 2365.9689000000003, 2355.4089, 2393.2489, 2404.0289000000002, 2389.2889000000005, 2458.1489, 2450.0089000000003, 2461.2289, 2456.3889000000004, 2446.0489000000002, 2470.2489, 2452.4289000000003, 2449.5689, 2431.9689000000003, 2433.5089000000003, 2428.2289, 2426.4689000000003, 2417.8889000000004, 2401.3889000000004, 2402.2689000000005, 2431.7489, 2424.9289000000003, 2432.6289, 2453.5289000000002, 2480.1489, 2494.2289, 2485.6489, 2435.4889000000003, 2399.1889000000006, 2330.7689000000005, 2312.5089000000003, 2334.2889000000005, 2326.8089, 2351.6689, 2363.1089, 2438.1289, 2449.1289, 2453.7489, 2458.3689000000004, 2452.8689000000004, 2460.3489000000004, 2443.1889000000006, 2453.5289000000002, 2473.1089, 2582.6689, 2554.7289, 2580.2489, 2650.6489, 2632.1689, 2635.2489, 2638.3289, 2634.1489, 2635.4689000000003, 2654.3889000000004, 2690.6889000000006, 2689.1489, 2669.5689, 2675.0689, 2690.6889000000006, 2668.0289000000002, 2626.6689, 2613.4689000000003, 2611.4889000000003, 2611.2689000000005, 2543.9489000000003, 2563.0889, 2553.8489000000004, 2584.8689000000004, 2572.9889000000003, 2585.7489, 2594.1089, 2574.0889, 2526.1289, 2549.6689, 2523.4889000000003, 2516.8889000000004, 2491.3689000000004, 2467.1689, 2478.1689, 2550.3289, 2558.9089, 2564.1889000000006, 2537.5689, 2563.5289000000002, 2571.0089000000003, 2539.9889000000003, 2545.9289000000003, 2552.0889, 2538.8889000000004, 2571.6689, 2554.0689, 2560.2289, 2543.7289, 2526.5689, 2506.7689000000005, 2522.6089, 2530.5289000000002, 2595.6489, 2637.0089000000003, 2639.6489, 2618.0889, 2632.8289, 2619.1889000000006, 2629.7489, 2622.4889000000003, 2646.2489, 2672.6489, 2641.8489000000004, 2668.6889000000006, 2643.8289, 2658.7889000000005, 2633.9289000000003, 2649.9889000000003, 2695.9689000000003, 2706.3089, 2681.6689, 2692.8889000000004, 2684.7489, 2679.0289000000002, 2688.0489000000002, 2620.7289, 2620.5089000000003, 2546.5889, 2565.5089000000003, 2512.7089, 2552.9689000000003, 2550.3289, 2505.0089000000003, 2541.5289000000002, 2441.6489, 2450.4489000000003, 2505.8889000000004, 2527.2289, 2496.8689000000004, 2503.4689000000003, 2527.8889000000004, 2468.4889000000003, 2487.1889000000006, 2462.3289, 2485.6489, 2538.8889000000004, 2552.9689000000003, 2524.3689000000004, 2553.1889000000006, 2608.1889000000006, 2613.4689000000003, 2674.8489000000004, 2707.1889000000006, 2714.2289, 2730.0689, 2781.1089, 2757.5689, 2744.5889, 2770.7689000000005, 2762.4089, 2751.8489000000004, 2751.4089, 2717.3089, 2732.0489000000002, 2710.7089, 2725.8889000000004, 2725.2289, 2678.1489, 2627.5489000000002, 2604.2289, 2657.6889000000006, 2652.1889000000006, 2596.0889, 2613.9089, 2648.6689, 2691.1289, 2697.9489000000003, 2775.1689, 2769.0089000000003, 2783.7489, 2788.3689000000004, 2854.1489, 2881.4289000000003, 2888.6889000000006, 2886.7089, 2908.7089, 2919.2689000000005, 2917.5089000000003, 2902.1089, 2884.2889000000005, 2947.6489, 2970.0889, 2976.2489, 2980.6489000000006, 2996.0489000000002, 3004.4089, 2994.2889, 2977.5689, 2962.6089, 2965.2489, 2985.7089, 3009.6889000000006, 3008.8089000000004, 2987.9089, 2994.5089000000003, 3013.4289, 3028.8289000000004, 3032.7889, 3041.3689000000004, 3034.7689, 3028.3889000000004, 2991.2089, 3047.5289000000002, 3063.3689000000004, 3106.9289, 3093.0689, 3095.0489000000002, 3088.0089000000003, 3172.4889000000003, 3145.8689000000004, 3157.5289000000002, 3176.0089000000003, 3172.9289, 3157.7489, 3155.3289000000004, 3154.4489, 3162.8089000000004, 3194.9289, 3197.1289, 3185.9089, 3202.8489000000004, 3240.0289000000002, 3179.5289000000002, 3177.1089, 3125.4089, 3148.7289, 3159.7289, 3129.5889, 3154.4489, 3189.6489000000006, 3143.8889000000004, 3155.5489000000002, 3176.4489, 3146.5289000000002, 3143.0089000000003, 3139.9289, 3065.3489000000004, 3040.7089, 3093.5089000000003, 3089.1089, 3125.6289, 3047.9689000000003, 3070.1889000000006, 3112.4289, 3163.0289000000002, 3163.4689000000003, 3153.7889, 3166.3289000000004, 3172.0489000000002, 3172.0489000000002, 3169.4089, 3160.1689000000006, 3120.1289, 3160.8289000000004, 3160.8289000000004, 3123.8689000000004, 3043.5689, 2913.7689000000005, 2922.1289, 2806.1889000000006, 2690.4689000000003, 2809.4889000000003, 2709.1689, 2772.7489, 2643.3889000000004, 2513.8089, 2191.7289, 2351.4489000000003, 2247.1689, 2073.1489, 2422.0689, 2079.9689000000003, 2198.7689000000005, 1981.6289000000002, 2012.6489000000001, 1973.0489000000002, 1874.7089, 2081.5089000000003, 2154.1089, 2294.6889000000006, 2140.9089, 2193.0489000000002, 2116.7089, 1991.9689000000003, 2061.2689, 1985.1489000000001, 2104.1689, 2130.1289, 2210.6489, 2396.7689000000005, 2296.2289, 2237.0489000000002, 2133.4289000000003, 2057.3089, 2230.0089000000003, 2153.6689, 2095.1489, 2101.5289000000002, 2102.6289, 2131.6689, 2217.6889000000006, 2232.4289000000003, 2288.9689000000003, 2242.7689000000005, 2187.5489000000002, 2163.1289, 2160.0489000000002, 2121.9889, 2142.6689, 2175.4489000000003, 2115.3889, 2050.7089, 1984.7089, 2061.4889, 2025.8489000000004, 2125.9489000000003, 2086.7889, 2145.3089, 2119.7889, 2104.3889, 2244.0889, 2366.1889000000006, 2332.9689000000003, 2276.8689000000004, 2305.2489, 2312.5089000000003, 2429.9889000000003, 2477.7289, 2583.1089, 2631.9489000000003, 2567.9289000000003, 2469.3689000000004, 2274.6689, 2333.1889000000006, 2363.5489000000002, 2381.3689000000004, 2324.6089, 2312.7289, 2287.8689000000004, 2264.5489000000002, 2290.5089000000003, 2218.5689, 2291.1689, 2173.0289000000002, 2182.0489000000002, 2205.3689000000004, 2187.7689000000005, 2174.5689, 2226.0489000000002, 2167.0889, 2188.6489, 2144.2089, 2253.9889000000003, 2284.3489000000004, 2296.6689, 2330.1089, 2336.2689000000005, 2295.5689, 2276.6489, 2323.0689, 2307.2289, 2313.6089, 2298.2089, 2267.8489000000004, 2277.0889, 2329.0089000000003, 2270.4889000000003, 2262.1289, 2250.2489, 2238.1489, 2274.6689, 2275.3289, 2322.4089, 2350.1289, 2420.0889, 2400.7289, 2388.1889000000006, 2389.0689, 2329.6689]\n"
     ]
    }
   ],
   "source": [
    "def VizualizeData(NetWorthAfterEachTrade):\n",
    "  x=range(len(NetWorthAfterEachTrade))\n",
    "  y=NetWorthAfterEachTrade\n",
    "  plt.plot(x,y)\n",
    "  plt.draw()\n",
    "  plt.show()\n",
    "\n",
    "VizualizeData(NetWorthAfterEachTrade)\n",
    "\n",
    "print(NetWorthAfterEachTrade)\n",
    "\n",
    "\n",
    "  "
   ]
  },
  {
   "cell_type": "markdown",
   "metadata": {
    "id": "cZoWhY8X9BSR"
   },
   "source": [
    "You may use this cell to write about what results you got!"
   ]
  }
 ],
 "metadata": {
  "colab": {
   "collapsed_sections": [],
   "name": "Momentum.ipynb",
   "provenance": []
  },
  "kernelspec": {
   "display_name": "Python 3",
   "language": "python",
   "name": "python3"
  },
  "language_info": {
   "codemirror_mode": {
    "name": "ipython",
    "version": 3
   },
   "file_extension": ".py",
   "mimetype": "text/x-python",
   "name": "python",
   "nbconvert_exporter": "python",
   "pygments_lexer": "ipython3",
   "version": "3.8.8"
  }
 },
 "nbformat": 4,
 "nbformat_minor": 1
}
